{
  "nbformat": 4,
  "nbformat_minor": 0,
  "metadata": {
    "colab": {
      "name": "facial-exp-recog.ipynb",
      "provenance": [],
      "collapsed_sections": []
    },
    "kernelspec": {
      "name": "python3",
      "display_name": "Python 3"
    },
    "language_info": {
      "name": "python"
    },
    "accelerator": "GPU"
  },
  "cells": [
    {
      "cell_type": "code",
      "metadata": {
        "id": "YqA0raqx7STv"
      },
      "source": [
        "from google.colab import drive\n",
        "import tensorflow as tf\n",
        "from tensorflow import keras\n",
        "from tensorflow.keras.models import Sequential\n",
        "from tensorflow.keras.layers import Dense, Conv2D, MaxPooling2D, Dropout, Flatten\n",
        "import matplotlib.pyplot as plt\n",
        "import numpy as np\n",
        "import pandas as pd\n",
        "import seaborn as sns"
      ],
      "execution_count": 1,
      "outputs": []
    },
    {
      "cell_type": "code",
      "metadata": {
        "colab": {
          "base_uri": "https://localhost:8080/"
        },
        "id": "BeCM0GAYIb32",
        "outputId": "8a959a55-e809-41f3-a36c-4c52d4972790"
      },
      "source": [
        "drive.mount('/content/drive')"
      ],
      "execution_count": 2,
      "outputs": [
        {
          "output_type": "stream",
          "text": [
            "Mounted at /content/drive\n"
          ],
          "name": "stdout"
        }
      ]
    },
    {
      "cell_type": "code",
      "metadata": {
        "id": "TmfvVGyAIe5Y"
      },
      "source": [
        "PATH1 = '/content/drive/My Drive/Dataset/'"
      ],
      "execution_count": 3,
      "outputs": []
    },
    {
      "cell_type": "markdown",
      "metadata": {
        "id": "qvbr7aAcBjZZ"
      },
      "source": [
        "## Dataset Overview"
      ]
    },
    {
      "cell_type": "code",
      "metadata": {
        "id": "XNCUOWBw-LWK"
      },
      "source": [
        "df = pd.read_csv(PATH1+'fer2013.csv')"
      ],
      "execution_count": 4,
      "outputs": []
    },
    {
      "cell_type": "code",
      "metadata": {
        "id": "ZRoee4cvA0Ve",
        "colab": {
          "base_uri": "https://localhost:8080/"
        },
        "outputId": "4db21196-710b-422c-b2fd-2f1fe6cede46"
      },
      "source": [
        "#check usage values\n",
        "#80% training, 10% validation and 10% test\n",
        "df['Usage'].value_counts()"
      ],
      "execution_count": 5,
      "outputs": [
        {
          "output_type": "execute_result",
          "data": {
            "text/plain": [
              "Training       28709\n",
              "PublicTest      3589\n",
              "PrivateTest     3589\n",
              "Name: Usage, dtype: int64"
            ]
          },
          "metadata": {
            "tags": []
          },
          "execution_count": 5
        }
      ]
    },
    {
      "cell_type": "code",
      "metadata": {
        "colab": {
          "base_uri": "https://localhost:8080/",
          "height": 204
        },
        "id": "hQh5M313MBaM",
        "outputId": "900a7072-3a8a-44e9-b64a-3fdb0ff0e2fc"
      },
      "source": [
        "df.tail()"
      ],
      "execution_count": 6,
      "outputs": [
        {
          "output_type": "execute_result",
          "data": {
            "text/html": [
              "<div>\n",
              "<style scoped>\n",
              "    .dataframe tbody tr th:only-of-type {\n",
              "        vertical-align: middle;\n",
              "    }\n",
              "\n",
              "    .dataframe tbody tr th {\n",
              "        vertical-align: top;\n",
              "    }\n",
              "\n",
              "    .dataframe thead th {\n",
              "        text-align: right;\n",
              "    }\n",
              "</style>\n",
              "<table border=\"1\" class=\"dataframe\">\n",
              "  <thead>\n",
              "    <tr style=\"text-align: right;\">\n",
              "      <th></th>\n",
              "      <th>emotion</th>\n",
              "      <th>pixels</th>\n",
              "      <th>Usage</th>\n",
              "    </tr>\n",
              "  </thead>\n",
              "  <tbody>\n",
              "    <tr>\n",
              "      <th>35882</th>\n",
              "      <td>6</td>\n",
              "      <td>50 36 17 22 23 29 33 39 34 37 37 37 39 43 48 5...</td>\n",
              "      <td>PrivateTest</td>\n",
              "    </tr>\n",
              "    <tr>\n",
              "      <th>35883</th>\n",
              "      <td>3</td>\n",
              "      <td>178 174 172 173 181 188 191 194 196 199 200 20...</td>\n",
              "      <td>PrivateTest</td>\n",
              "    </tr>\n",
              "    <tr>\n",
              "      <th>35884</th>\n",
              "      <td>0</td>\n",
              "      <td>17 17 16 23 28 22 19 17 25 26 20 24 31 19 27 9...</td>\n",
              "      <td>PrivateTest</td>\n",
              "    </tr>\n",
              "    <tr>\n",
              "      <th>35885</th>\n",
              "      <td>3</td>\n",
              "      <td>30 28 28 29 31 30 42 68 79 81 77 67 67 71 63 6...</td>\n",
              "      <td>PrivateTest</td>\n",
              "    </tr>\n",
              "    <tr>\n",
              "      <th>35886</th>\n",
              "      <td>2</td>\n",
              "      <td>19 13 14 12 13 16 21 33 50 57 71 84 97 108 122...</td>\n",
              "      <td>PrivateTest</td>\n",
              "    </tr>\n",
              "  </tbody>\n",
              "</table>\n",
              "</div>"
            ],
            "text/plain": [
              "       emotion                                             pixels        Usage\n",
              "35882        6  50 36 17 22 23 29 33 39 34 37 37 37 39 43 48 5...  PrivateTest\n",
              "35883        3  178 174 172 173 181 188 191 194 196 199 200 20...  PrivateTest\n",
              "35884        0  17 17 16 23 28 22 19 17 25 26 20 24 31 19 27 9...  PrivateTest\n",
              "35885        3  30 28 28 29 31 30 42 68 79 81 77 67 67 71 63 6...  PrivateTest\n",
              "35886        2  19 13 14 12 13 16 21 33 50 57 71 84 97 108 122...  PrivateTest"
            ]
          },
          "metadata": {
            "tags": []
          },
          "execution_count": 6
        }
      ]
    },
    {
      "cell_type": "code",
      "metadata": {
        "id": "X0hgDAQjA5Jt",
        "colab": {
          "base_uri": "https://localhost:8080/",
          "height": 266
        },
        "outputId": "d382e7c4-4ff8-48da-f09e-1a8598350e72"
      },
      "source": [
        "#check target labels\n",
        "emotion_map = {0: 'Angry', 1: 'Digust', 2: 'Fear', 3: 'Happy', 4: 'Sad', 5: 'Surprise', 6: 'Neutral'}\n",
        "emotion_counts = df['emotion'].value_counts(sort=False).reset_index()\n",
        "emotion_counts.columns = ['emotion', 'number']\n",
        "emotion_counts['emotion'] = emotion_counts['emotion'].map(emotion_map)\n",
        "emotion_counts"
      ],
      "execution_count": 7,
      "outputs": [
        {
          "output_type": "execute_result",
          "data": {
            "text/html": [
              "<div>\n",
              "<style scoped>\n",
              "    .dataframe tbody tr th:only-of-type {\n",
              "        vertical-align: middle;\n",
              "    }\n",
              "\n",
              "    .dataframe tbody tr th {\n",
              "        vertical-align: top;\n",
              "    }\n",
              "\n",
              "    .dataframe thead th {\n",
              "        text-align: right;\n",
              "    }\n",
              "</style>\n",
              "<table border=\"1\" class=\"dataframe\">\n",
              "  <thead>\n",
              "    <tr style=\"text-align: right;\">\n",
              "      <th></th>\n",
              "      <th>emotion</th>\n",
              "      <th>number</th>\n",
              "    </tr>\n",
              "  </thead>\n",
              "  <tbody>\n",
              "    <tr>\n",
              "      <th>0</th>\n",
              "      <td>Angry</td>\n",
              "      <td>4953</td>\n",
              "    </tr>\n",
              "    <tr>\n",
              "      <th>1</th>\n",
              "      <td>Digust</td>\n",
              "      <td>547</td>\n",
              "    </tr>\n",
              "    <tr>\n",
              "      <th>2</th>\n",
              "      <td>Fear</td>\n",
              "      <td>5121</td>\n",
              "    </tr>\n",
              "    <tr>\n",
              "      <th>3</th>\n",
              "      <td>Happy</td>\n",
              "      <td>8989</td>\n",
              "    </tr>\n",
              "    <tr>\n",
              "      <th>4</th>\n",
              "      <td>Sad</td>\n",
              "      <td>6077</td>\n",
              "    </tr>\n",
              "    <tr>\n",
              "      <th>5</th>\n",
              "      <td>Surprise</td>\n",
              "      <td>4002</td>\n",
              "    </tr>\n",
              "    <tr>\n",
              "      <th>6</th>\n",
              "      <td>Neutral</td>\n",
              "      <td>6198</td>\n",
              "    </tr>\n",
              "  </tbody>\n",
              "</table>\n",
              "</div>"
            ],
            "text/plain": [
              "    emotion  number\n",
              "0     Angry    4953\n",
              "1    Digust     547\n",
              "2      Fear    5121\n",
              "3     Happy    8989\n",
              "4       Sad    6077\n",
              "5  Surprise    4002\n",
              "6   Neutral    6198"
            ]
          },
          "metadata": {
            "tags": []
          },
          "execution_count": 7
        }
      ]
    },
    {
      "cell_type": "code",
      "metadata": {
        "id": "ZRDucppcBFIO",
        "colab": {
          "base_uri": "https://localhost:8080/",
          "height": 411
        },
        "outputId": "bf400efb-9d68-45ba-ca45-ab1f77c7baeb"
      },
      "source": [
        "# Plotting a bar graph of the class distributions\n",
        "plt.figure(figsize=(6,4))\n",
        "sns.barplot(emotion_counts.emotion, emotion_counts.number, palette=(\"Blues_d\"))\n",
        "sns.set_context(\"poster\")\n",
        "plt.title('Class distribution', fontsize=16)\n",
        "plt.xticks(fontsize=14, rotation=90)\n",
        "plt.yticks(fontsize=14)\n",
        "plt.ylabel('Number', fontsize=12)\n",
        "plt.xlabel('Emotions', fontsize=12)\n",
        "plt.show()"
      ],
      "execution_count": 27,
      "outputs": [
        {
          "output_type": "stream",
          "text": [
            "/usr/local/lib/python3.7/dist-packages/seaborn/_decorators.py:43: FutureWarning: Pass the following variables as keyword args: x, y. From version 0.12, the only valid positional argument will be `data`, and passing other arguments without an explicit keyword will result in an error or misinterpretation.\n",
            "  FutureWarning\n"
          ],
          "name": "stderr"
        },
        {
          "output_type": "display_data",
          "data": {
            "image/png": "[encoded data removed]",
            "text/plain": [
              "<Figure size 432x288 with 1 Axes>"
            ]
          },
          "metadata": {
            "tags": [],
            "needs_background": "light"
          }
        }
      ]
    },
    {
      "cell_type": "markdown",
      "metadata": {
        "id": "HGl5-58IBqit"
      },
      "source": [
        "## Pre processing"
      ]
    },
    {
      "cell_type": "code",
      "metadata": {
        "id": "rG6dwlOnAr0Q"
      },
      "source": [
        "train_samples = df[df['Usage']==\"Training\"]\n",
        "validation_samples = df[df[\"Usage\"]==\"PublicTest\"]\n",
        "test_samples = df[df[\"Usage\"]==\"PrivateTest\"]"
      ],
      "execution_count": 9,
      "outputs": []
    },
    {
      "cell_type": "markdown",
      "metadata": {
        "id": "z5e9pPbcEGmo"
      },
      "source": [
        "Train - Val - Test split"
      ]
    },
    {
      "cell_type": "code",
      "metadata": {
        "id": "GcG25ZYID79w"
      },
      "source": [
        "y_train = train_samples.emotion.astype(np.int32).values\n",
        "y_valid = validation_samples.emotion.astype(np.int32).values\n",
        "y_test = test_samples.emotion.astype(np.int32).values\n",
        "  \n",
        "X_train =np.array([ np.fromstring(image, np.uint8, sep=\" \").reshape((48,48)) for image in train_samples.pixels])\n",
        "X_valid =np.array([ np.fromstring(image, np.uint8, sep=\" \").reshape((48,48)) for image in validation_samples.pixels])\n",
        "X_test =np.array([ np.fromstring(image, np.uint8, sep=\" \").reshape((48,48)) for image in test_samples.pixels])"
      ],
      "execution_count": 10,
      "outputs": []
    },
    {
      "cell_type": "markdown",
      "metadata": {
        "id": "gr7lk6fLIs0F"
      },
      "source": [
        "Normalisation"
      ]
    },
    {
      "cell_type": "code",
      "metadata": {
        "id": "dJCEY9cPh3E1"
      },
      "source": [
        "X_train_std = X_train/255.\n",
        "X_valid_std = X_valid/255.\n",
        "X_test_std = X_test/255."
      ],
      "execution_count": 12,
      "outputs": []
    },
    {
      "cell_type": "markdown",
      "metadata": {
        "id": "-O9uxER2B2qu"
      },
      "source": [
        "## Building CNN Model\n",
        "\n",
        "CNN Model Architecture:\n",
        "\n",
        "\n",
        "*   Conv2D -> BN -> Activation -> MaxPooling -> Dropout\n",
        "*   Conv2D -> BN -> Activation -> MaxPooling -> Dropout\n",
        "*   Conv2D -> BN -> Activation -> MaxPooling -> Dropout\n",
        "*   Conv2D -> BN -> Activation -> MaxPooling -> Dropout\n",
        "*   Conv2D -> BN -> Activation -> MaxPooling -> Dropout\n",
        "*   Flatten\n",
        "*   Dense -> BN -> Activation -> Dropout\n",
        "*   Dense -> BN -> Activation -> Dropout\n",
        "*   Output Layer\n",
        "\n",
        "\n",
        "\n",
        "\n",
        "\n"
      ]
    },
    {
      "cell_type": "code",
      "metadata": {
        "id": "EAS-AMXbViVE"
      },
      "source": [
        ""
      ],
      "execution_count": 12,
      "outputs": []
    },
    {
      "cell_type": "code",
      "metadata": {
        "id": "gptbzfu4Cm_1"
      },
      "source": [
        "model = keras.models.Sequential()\n",
        "\n",
        "model.add(keras.layers.Conv2D(64,(3,3), input_shape=(48,48, 1), padding=\"same\"))\n",
        "model.add(keras.layers.BatchNormalization())\n",
        "model.add(keras.layers.Activation('relu'))\n",
        "model.add(keras.layers.MaxPooling2D(pool_size=(2,2)))\n",
        "model.add(keras.layers.Dropout(0.20))\n",
        "\n",
        "model.add(keras.layers.Conv2D(128,(5,5), padding='same'))\n",
        "model.add(keras.layers.BatchNormalization())\n",
        "model.add(keras.layers.Activation('relu'))\n",
        "model.add(keras.layers.MaxPooling2D())\n",
        "model.add(keras.layers.Dropout(0.20))\n",
        "\n",
        "model.add(keras.layers.Conv2D(256,(3,3), padding=\"same\"))\n",
        "model.add(keras.layers.BatchNormalization())\n",
        "model.add(keras.layers.Activation('relu'))\n",
        "model.add(keras.layers.MaxPooling2D())\n",
        "model.add(keras.layers.Dropout(0.20))\n",
        "\n",
        "model.add(keras.layers.Conv2D(512,(3,3), padding=\"same\"))\n",
        "model.add(keras.layers.BatchNormalization())\n",
        "model.add(keras.layers.Activation('relu'))\n",
        "model.add(keras.layers.MaxPooling2D())\n",
        "model.add(keras.layers.Dropout(0.25))\n",
        "\n",
        "model.add(keras.layers.Conv2D(256,(3,3), activation='relu',padding=\"same\"))\n",
        "model.add(keras.layers.Conv2D(128,(3,3), padding='same', activation='relu'))\n",
        "model.add(keras.layers.MaxPooling2D())\n",
        "model.add(keras.layers.Dropout(0.25))\n",
        "\n",
        "#model.add(keras.layers.GlobalAveragePooling2D())\n",
        "model.add(keras.layers.Flatten())\n",
        "model.add(keras.layers.Dense(256))\n",
        "model.add(keras.layers.BatchNormalization())\n",
        "model.add(keras.layers.Activation('relu'))\n",
        "model.add(keras.layers.Dropout(0.5))\n",
        "\n",
        "model.add(keras.layers.Dense(512, activation='relu'))\n",
        "model.add(keras.layers.BatchNormalization())\n",
        "model.add(keras.layers.Activation('relu'))\n",
        "model.add(keras.layers.Dropout(0.5))\n",
        "\n",
        "model.add(keras.layers.Dense(7,activation='softmax'))\n"
      ],
      "execution_count": 13,
      "outputs": []
    },
    {
      "cell_type": "code",
      "metadata": {
        "id": "BqIBf2MrDAyb"
      },
      "source": [
        "#Compiling the model\n",
        "\n",
        "model.compile(loss=\"sparse_categorical_crossentropy\", optimizer=keras.optimizers.Adam(lr=0.005) , metrics=['accuracy'])"
      ],
      "execution_count": 14,
      "outputs": []
    },
    {
      "cell_type": "code",
      "metadata": {
        "colab": {
          "base_uri": "https://localhost:8080/"
        },
        "id": "AethJFJ6dbA_",
        "outputId": "9a54bb15-b2d5-41bb-a1e4-3e9d3b918bad"
      },
      "source": [
        "model.summary()"
      ],
      "execution_count": 15,
      "outputs": [
        {
          "output_type": "stream",
          "text": [
            "Model: \"sequential\"\n",
            "_________________________________________________________________\n",
            "Layer (type)                 Output Shape              Param #   \n",
            "=================================================================\n",
            "conv2d (Conv2D)              (None, 48, 48, 64)        640       \n",
            "_________________________________________________________________\n",
            "batch_normalization (BatchNo (None, 48, 48, 64)        256       \n",
            "_________________________________________________________________\n",
            "activation (Activation)      (None, 48, 48, 64)        0         \n",
            "_________________________________________________________________\n",
            "max_pooling2d (MaxPooling2D) (None, 24, 24, 64)        0         \n",
            "_________________________________________________________________\n",
            "dropout (Dropout)            (None, 24, 24, 64)        0         \n",
            "_________________________________________________________________\n",
            "conv2d_1 (Conv2D)            (None, 24, 24, 128)       204928    \n",
            "_________________________________________________________________\n",
            "batch_normalization_1 (Batch (None, 24, 24, 128)       512       \n",
            "_________________________________________________________________\n",
            "activation_1 (Activation)    (None, 24, 24, 128)       0         \n",
            "_________________________________________________________________\n",
            "max_pooling2d_1 (MaxPooling2 (None, 12, 12, 128)       0         \n",
            "_________________________________________________________________\n",
            "dropout_1 (Dropout)          (None, 12, 12, 128)       0         \n",
            "_________________________________________________________________\n",
            "conv2d_2 (Conv2D)            (None, 12, 12, 256)       295168    \n",
            "_________________________________________________________________\n",
            "batch_normalization_2 (Batch (None, 12, 12, 256)       1024      \n",
            "_________________________________________________________________\n",
            "activation_2 (Activation)    (None, 12, 12, 256)       0         \n",
            "_________________________________________________________________\n",
            "max_pooling2d_2 (MaxPooling2 (None, 6, 6, 256)         0         \n",
            "_________________________________________________________________\n",
            "dropout_2 (Dropout)          (None, 6, 6, 256)         0         \n",
            "_________________________________________________________________\n",
            "conv2d_3 (Conv2D)            (None, 6, 6, 512)         1180160   \n",
            "_________________________________________________________________\n",
            "batch_normalization_3 (Batch (None, 6, 6, 512)         2048      \n",
            "_________________________________________________________________\n",
            "activation_3 (Activation)    (None, 6, 6, 512)         0         \n",
            "_________________________________________________________________\n",
            "max_pooling2d_3 (MaxPooling2 (None, 3, 3, 512)         0         \n",
            "_________________________________________________________________\n",
            "dropout_3 (Dropout)          (None, 3, 3, 512)         0         \n",
            "_________________________________________________________________\n",
            "conv2d_4 (Conv2D)            (None, 3, 3, 256)         1179904   \n",
            "_________________________________________________________________\n",
            "conv2d_5 (Conv2D)            (None, 3, 3, 128)         295040    \n",
            "_________________________________________________________________\n",
            "max_pooling2d_4 (MaxPooling2 (None, 1, 1, 128)         0         \n",
            "_________________________________________________________________\n",
            "dropout_4 (Dropout)          (None, 1, 1, 128)         0         \n",
            "_________________________________________________________________\n",
            "flatten (Flatten)            (None, 128)               0         \n",
            "_________________________________________________________________\n",
            "dense (Dense)                (None, 256)               33024     \n",
            "_________________________________________________________________\n",
            "batch_normalization_4 (Batch (None, 256)               1024      \n",
            "_________________________________________________________________\n",
            "activation_4 (Activation)    (None, 256)               0         \n",
            "_________________________________________________________________\n",
            "dropout_5 (Dropout)          (None, 256)               0         \n",
            "_________________________________________________________________\n",
            "dense_1 (Dense)              (None, 512)               131584    \n",
            "_________________________________________________________________\n",
            "batch_normalization_5 (Batch (None, 512)               2048      \n",
            "_________________________________________________________________\n",
            "activation_5 (Activation)    (None, 512)               0         \n",
            "_________________________________________________________________\n",
            "dropout_6 (Dropout)          (None, 512)               0         \n",
            "_________________________________________________________________\n",
            "dense_2 (Dense)              (None, 7)                 3591      \n",
            "=================================================================\n",
            "Total params: 3,330,951\n",
            "Trainable params: 3,327,495\n",
            "Non-trainable params: 3,456\n",
            "_________________________________________________________________\n"
          ],
          "name": "stdout"
        }
      ]
    },
    {
      "cell_type": "code",
      "metadata": {
        "colab": {
          "base_uri": "https://localhost:8080/"
        },
        "id": "Njr7nPZJDE92",
        "outputId": "bf7fc086-8162-42f1-dd78-49cc52cf0c94"
      },
      "source": [
        "#fit the model\n",
        "history = model.fit(X_train_std, y_train,batch_size=64,epochs=35, validation_data=(X_valid_std, y_valid), shuffle=True)\n",
        "\n",
        "history_dict = history.history\n",
        "history_dict.keys()"
      ],
      "execution_count": 16,
      "outputs": [
        {
          "output_type": "stream",
          "text": [
            "Epoch 1/35\n",
            "449/449 [==============================] - 55s 54ms/step - loss: 2.2462 - accuracy: 0.2114 - val_loss: 1.8289 - val_accuracy: 0.2591\n",
            "Epoch 2/35\n",
            "449/449 [==============================] - 23s 51ms/step - loss: 1.8505 - accuracy: 0.2564 - val_loss: 1.6573 - val_accuracy: 0.3396\n",
            "Epoch 3/35\n",
            "449/449 [==============================] - 23s 51ms/step - loss: 1.6076 - accuracy: 0.3580 - val_loss: 1.4630 - val_accuracy: 0.4124\n",
            "Epoch 4/35\n",
            "449/449 [==============================] - 23s 51ms/step - loss: 1.4872 - accuracy: 0.4017 - val_loss: 1.3797 - val_accuracy: 0.4402\n",
            "Epoch 5/35\n",
            "449/449 [==============================] - 23s 51ms/step - loss: 1.3957 - accuracy: 0.4386 - val_loss: 1.3733 - val_accuracy: 0.4600\n",
            "Epoch 6/35\n",
            "449/449 [==============================] - 23s 51ms/step - loss: 1.3126 - accuracy: 0.4908 - val_loss: 1.2852 - val_accuracy: 0.4957\n",
            "Epoch 7/35\n",
            "449/449 [==============================] - 23s 51ms/step - loss: 1.2566 - accuracy: 0.5136 - val_loss: 1.3144 - val_accuracy: 0.4987\n",
            "Epoch 8/35\n",
            "449/449 [==============================] - 23s 51ms/step - loss: 1.1941 - accuracy: 0.5462 - val_loss: 1.2589 - val_accuracy: 0.5113\n",
            "Epoch 9/35\n",
            "449/449 [==============================] - 23s 51ms/step - loss: 1.1518 - accuracy: 0.5695 - val_loss: 1.3228 - val_accuracy: 0.4957\n",
            "Epoch 10/35\n",
            "449/449 [==============================] - 23s 51ms/step - loss: 1.1027 - accuracy: 0.5919 - val_loss: 1.2398 - val_accuracy: 0.5428\n",
            "Epoch 11/35\n",
            "449/449 [==============================] - 23s 51ms/step - loss: 1.0570 - accuracy: 0.6133 - val_loss: 1.2818 - val_accuracy: 0.5065\n",
            "Epoch 12/35\n",
            "449/449 [==============================] - 23s 51ms/step - loss: 1.0067 - accuracy: 0.6355 - val_loss: 1.2489 - val_accuracy: 0.5355\n",
            "Epoch 13/35\n",
            "449/449 [==============================] - 23s 51ms/step - loss: 0.9476 - accuracy: 0.6570 - val_loss: 1.1447 - val_accuracy: 0.5667\n",
            "Epoch 14/35\n",
            "449/449 [==============================] - 23s 51ms/step - loss: 0.9168 - accuracy: 0.6701 - val_loss: 1.2985 - val_accuracy: 0.5277\n",
            "Epoch 15/35\n",
            "449/449 [==============================] - 23s 51ms/step - loss: 0.8879 - accuracy: 0.6816 - val_loss: 1.2026 - val_accuracy: 0.5670\n",
            "Epoch 16/35\n",
            "449/449 [==============================] - 23s 51ms/step - loss: 0.8300 - accuracy: 0.7049 - val_loss: 1.1399 - val_accuracy: 0.5957\n",
            "Epoch 17/35\n",
            "449/449 [==============================] - 23s 51ms/step - loss: 0.7861 - accuracy: 0.7231 - val_loss: 1.1578 - val_accuracy: 0.6002\n",
            "Epoch 18/35\n",
            "449/449 [==============================] - 23s 51ms/step - loss: 0.7481 - accuracy: 0.7385 - val_loss: 1.3724 - val_accuracy: 0.5458\n",
            "Epoch 19/35\n",
            "449/449 [==============================] - 23s 51ms/step - loss: 0.6974 - accuracy: 0.7567 - val_loss: 1.1787 - val_accuracy: 0.6077\n",
            "Epoch 20/35\n",
            "449/449 [==============================] - 23s 51ms/step - loss: 0.6594 - accuracy: 0.7703 - val_loss: 1.2040 - val_accuracy: 0.6138\n",
            "Epoch 21/35\n",
            "449/449 [==============================] - 23s 51ms/step - loss: 0.6200 - accuracy: 0.7853 - val_loss: 1.2753 - val_accuracy: 0.5712\n",
            "Epoch 22/35\n",
            "449/449 [==============================] - 23s 52ms/step - loss: 0.5921 - accuracy: 0.7980 - val_loss: 1.2618 - val_accuracy: 0.5656\n",
            "Epoch 23/35\n",
            "449/449 [==============================] - 23s 51ms/step - loss: 0.5684 - accuracy: 0.8055 - val_loss: 1.2746 - val_accuracy: 0.5977\n",
            "Epoch 24/35\n",
            "449/449 [==============================] - 23s 51ms/step - loss: 0.5246 - accuracy: 0.8236 - val_loss: 1.2086 - val_accuracy: 0.6297\n",
            "Epoch 25/35\n",
            "449/449 [==============================] - 23s 51ms/step - loss: 0.4958 - accuracy: 0.8292 - val_loss: 1.2804 - val_accuracy: 0.6141\n",
            "Epoch 26/35\n",
            "449/449 [==============================] - 23s 51ms/step - loss: 0.4734 - accuracy: 0.8410 - val_loss: 1.3709 - val_accuracy: 0.5885\n",
            "Epoch 27/35\n",
            "449/449 [==============================] - 23s 51ms/step - loss: 0.4634 - accuracy: 0.8442 - val_loss: 1.3206 - val_accuracy: 0.6186\n",
            "Epoch 28/35\n",
            "449/449 [==============================] - 23s 51ms/step - loss: 0.4358 - accuracy: 0.8520 - val_loss: 1.5262 - val_accuracy: 0.5784\n",
            "Epoch 29/35\n",
            "449/449 [==============================] - 23s 51ms/step - loss: 0.4122 - accuracy: 0.8618 - val_loss: 1.2832 - val_accuracy: 0.6339\n",
            "Epoch 30/35\n",
            "449/449 [==============================] - 23s 51ms/step - loss: 0.3943 - accuracy: 0.8682 - val_loss: 1.4702 - val_accuracy: 0.5469\n",
            "Epoch 31/35\n",
            "449/449 [==============================] - 23s 51ms/step - loss: 0.3877 - accuracy: 0.8737 - val_loss: 1.5451 - val_accuracy: 0.5893\n",
            "Epoch 32/35\n",
            "449/449 [==============================] - 23s 51ms/step - loss: 0.3623 - accuracy: 0.8782 - val_loss: 1.3395 - val_accuracy: 0.6174\n",
            "Epoch 33/35\n",
            "449/449 [==============================] - 23s 51ms/step - loss: 0.3522 - accuracy: 0.8811 - val_loss: 1.7104 - val_accuracy: 0.5645\n",
            "Epoch 34/35\n",
            "449/449 [==============================] - 23s 51ms/step - loss: 0.3388 - accuracy: 0.8876 - val_loss: 1.6019 - val_accuracy: 0.5896\n",
            "Epoch 35/35\n",
            "449/449 [==============================] - 23s 51ms/step - loss: 0.3335 - accuracy: 0.8873 - val_loss: 1.4045 - val_accuracy: 0.6213\n"
          ],
          "name": "stdout"
        },
        {
          "output_type": "execute_result",
          "data": {
            "text/plain": [
              "dict_keys(['loss', 'accuracy', 'val_loss', 'val_accuracy'])"
            ]
          },
          "metadata": {
            "tags": []
          },
          "execution_count": 16
        }
      ]
    },
    {
      "cell_type": "code",
      "metadata": {
        "id": "56gbQYIjWNol"
      },
      "source": [
        "loss_values = history_dict['loss']\n",
        "val_loss = history_dict['val_loss']\n",
        "acc = history_dict['accuracy']\n",
        "val_acc = history_dict['val_accuracy']\n",
        "\n",
        "epochs = range(1, len(acc) +1)"
      ],
      "execution_count": 18,
      "outputs": []
    },
    {
      "cell_type": "code",
      "metadata": {
        "id": "KMzRyuINe29W",
        "colab": {
          "base_uri": "https://localhost:8080/",
          "height": 437
        },
        "outputId": "d949270c-2dd7-4944-f098-aa5afa2d53ce"
      },
      "source": [
        "#plotting the training and validation loss\n",
        "plt.figure(figsize=(8,6))\n",
        "plt.plot(epochs, loss_values, 'g', label = 'Training Loss', linewidth=1.5)\n",
        "plt.plot(epochs, val_loss, 'b', label = 'Validation Loss', linewidth = 1.5)\n",
        "plt.title('Training vs validation loss', fontsize=14)\n",
        "plt.xticks(fontsize = 12)\n",
        "plt.yticks(fontsize=12)\n",
        "plt.xlabel('Epochs', fontsize = 12)\n",
        "plt.ylabel('Loss', fontsize = 12)\n",
        "plt.legend(fontsize = 12)"
      ],
      "execution_count": 47,
      "outputs": [
        {
          "output_type": "execute_result",
          "data": {
            "text/plain": [
              "<matplotlib.legend.Legend at 0x7f751b45ef50>"
            ]
          },
          "metadata": {
            "tags": []
          },
          "execution_count": 47
        },
        {
          "output_type": "display_data",
          "data": {
            "image/png": "[encoded data removed]",
            "text/plain": [
              "<Figure size 576x432 with 1 Axes>"
            ]
          },
          "metadata": {
            "tags": [],
            "needs_background": "light"
          }
        }
      ]
    },
    {
      "cell_type": "code",
      "metadata": {
        "id": "93jCmIo9WQnE",
        "colab": {
          "base_uri": "https://localhost:8080/",
          "height": 437
        },
        "outputId": "f5c6b387-246c-49f1-b29c-94d95e787e98"
      },
      "source": [
        "#plotting the training and validation accuracy\n",
        "plt.figure(figsize=(8,6))\n",
        "plt.plot(epochs, acc, 'g', label = 'Training Accuracy', linewidth=1.5)\n",
        "plt.plot(epochs, val_acc, 'b', label = 'Validation Accuracy', linewidth=1.5)\n",
        "plt.title('Training vs validation accuracy', fontsize=14)\n",
        "plt.xticks(fontsize = 12)\n",
        "plt.yticks(fontsize=12)\n",
        "plt.xlabel('Epochs', fontsize = 12)\n",
        "plt.ylabel('Accuracy', fontsize = 12)\n",
        "plt.legend(fontsize = 12)"
      ],
      "execution_count": 48,
      "outputs": [
        {
          "output_type": "execute_result",
          "data": {
            "text/plain": [
              "<matplotlib.legend.Legend at 0x7f751bbaac90>"
            ]
          },
          "metadata": {
            "tags": []
          },
          "execution_count": 48
        },
        {
          "output_type": "display_data",
          "data": {
            "image/png": "[encoded data removed]",
            "text/plain": [
              "<Figure size 576x432 with 1 Axes>"
            ]
          },
          "metadata": {
            "tags": [],
            "needs_background": "light"
          }
        }
      ]
    },
    {
      "cell_type": "code",
      "metadata": {
        "id": "ALnzlu1kWI02",
        "colab": {
          "base_uri": "https://localhost:8080/"
        },
        "outputId": "fcfb12f6-6558-454d-96f8-df25c1f775a0"
      },
      "source": [
        "test_acc = model.evaluate(X_test_std,y_test)\n",
        "print('Testing accuracy: ', test_acc)"
      ],
      "execution_count": 45,
      "outputs": [
        {
          "output_type": "stream",
          "text": [
            "113/113 [==============================] - 2s 11ms/step - loss: 1.3160 - accuracy: 0.6406\n",
            "Testing accuracy:  [1.3160483837127686, 0.6405683755874634]\n"
          ],
          "name": "stdout"
        }
      ]
    },
    {
      "cell_type": "markdown",
      "metadata": {
        "id": "0dQIzUgsViC0"
      },
      "source": [
        ""
      ]
    }
  ]
}