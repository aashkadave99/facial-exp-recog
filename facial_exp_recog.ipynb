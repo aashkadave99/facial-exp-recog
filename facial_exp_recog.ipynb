{
  "nbformat": 4,
  "nbformat_minor": 0,
  "metadata": {
    "colab": {
      "name": "facial-exp-recog.ipynb",
      "provenance": [],
      "collapsed_sections": []
    },
    "kernelspec": {
      "name": "python3",
      "display_name": "Python 3"
    },
    "language_info": {
      "name": "python"
    }
  },
  "cells": [
    {
      "cell_type": "code",
      "metadata": {
        "id": "YqA0raqx7STv"
      },
      "source": [
        "from google.colab import drive\n",
        "import tensorflow as tf\n",
        "from tensorflow import keras\n",
        "from tensorflow.keras.models import Sequential\n",
        "from tensorflow.keras.layers import Dense, Conv2D, MaxPooling2D, Dropout, Flatten\n",
        "import matplotlib.pyplot as plt\n",
        "import numpy as np\n",
        "import pandas as pd\n",
        "import seaborn as sns"
      ],
      "execution_count": 1,
      "outputs": []
    },
    {
      "cell_type": "code",
      "metadata": {
        "colab": {
          "base_uri": "https://localhost:8080/"
        },
        "id": "BeCM0GAYIb32",
        "outputId": "071610e2-a5d3-449f-ec6a-b76256264d0c"
      },
      "source": [
        "drive.mount('/content/drive')"
      ],
      "execution_count": 2,
      "outputs": [
        {
          "output_type": "stream",
          "text": [
            "Drive already mounted at /content/drive; to attempt to forcibly remount, call drive.mount(\"/content/drive\", force_remount=True).\n"
          ],
          "name": "stdout"
        }
      ]
    },
    {
      "cell_type": "code",
      "metadata": {
        "id": "TmfvVGyAIe5Y"
      },
      "source": [
        "PATH1 = '/content/drive/My Drive/Dataset/'"
      ],
      "execution_count": 3,
      "outputs": []
    },
    {
      "cell_type": "markdown",
      "metadata": {
        "id": "qvbr7aAcBjZZ"
      },
      "source": [
        "## Dataset Overview"
      ]
    },
    {
      "cell_type": "code",
      "metadata": {
        "id": "XNCUOWBw-LWK"
      },
      "source": [
        "df = pd.read_csv(PATH1+'fer2013.csv')"
      ],
      "execution_count": 4,
      "outputs": []
    },
    {
      "cell_type": "code",
      "metadata": {
        "id": "ZRoee4cvA0Ve",
        "colab": {
          "base_uri": "https://localhost:8080/"
        },
        "outputId": "4cd99389-c2c5-4b23-cf58-0e21cd49565c"
      },
      "source": [
        "#check usage values\n",
        "#80% training, 10% validation and 10% test\n",
        "df['Usage'].value_counts()"
      ],
      "execution_count": 5,
      "outputs": [
        {
          "output_type": "execute_result",
          "data": {
            "text/plain": [
              "Training       28709\n",
              "PublicTest      3589\n",
              "PrivateTest     3589\n",
              "Name: Usage, dtype: int64"
            ]
          },
          "metadata": {
            "tags": []
          },
          "execution_count": 5
        }
      ]
    },
    {
      "cell_type": "code",
      "metadata": {
        "colab": {
          "base_uri": "https://localhost:8080/",
          "height": 204
        },
        "id": "hQh5M313MBaM",
        "outputId": "f95864b6-ef1d-42a6-837c-1b9a6b292bc1"
      },
      "source": [
        "df.tail()"
      ],
      "execution_count": 6,
      "outputs": [
        {
          "output_type": "execute_result",
          "data": {
            "text/html": [
              "<div>\n",
              "<style scoped>\n",
              "    .dataframe tbody tr th:only-of-type {\n",
              "        vertical-align: middle;\n",
              "    }\n",
              "\n",
              "    .dataframe tbody tr th {\n",
              "        vertical-align: top;\n",
              "    }\n",
              "\n",
              "    .dataframe thead th {\n",
              "        text-align: right;\n",
              "    }\n",
              "</style>\n",
              "<table border=\"1\" class=\"dataframe\">\n",
              "  <thead>\n",
              "    <tr style=\"text-align: right;\">\n",
              "      <th></th>\n",
              "      <th>emotion</th>\n",
              "      <th>pixels</th>\n",
              "      <th>Usage</th>\n",
              "    </tr>\n",
              "  </thead>\n",
              "  <tbody>\n",
              "    <tr>\n",
              "      <th>35882</th>\n",
              "      <td>6</td>\n",
              "      <td>50 36 17 22 23 29 33 39 34 37 37 37 39 43 48 5...</td>\n",
              "      <td>PrivateTest</td>\n",
              "    </tr>\n",
              "    <tr>\n",
              "      <th>35883</th>\n",
              "      <td>3</td>\n",
              "      <td>178 174 172 173 181 188 191 194 196 199 200 20...</td>\n",
              "      <td>PrivateTest</td>\n",
              "    </tr>\n",
              "    <tr>\n",
              "      <th>35884</th>\n",
              "      <td>0</td>\n",
              "      <td>17 17 16 23 28 22 19 17 25 26 20 24 31 19 27 9...</td>\n",
              "      <td>PrivateTest</td>\n",
              "    </tr>\n",
              "    <tr>\n",
              "      <th>35885</th>\n",
              "      <td>3</td>\n",
              "      <td>30 28 28 29 31 30 42 68 79 81 77 67 67 71 63 6...</td>\n",
              "      <td>PrivateTest</td>\n",
              "    </tr>\n",
              "    <tr>\n",
              "      <th>35886</th>\n",
              "      <td>2</td>\n",
              "      <td>19 13 14 12 13 16 21 33 50 57 71 84 97 108 122...</td>\n",
              "      <td>PrivateTest</td>\n",
              "    </tr>\n",
              "  </tbody>\n",
              "</table>\n",
              "</div>"
            ],
            "text/plain": [
              "       emotion                                             pixels        Usage\n",
              "35882        6  50 36 17 22 23 29 33 39 34 37 37 37 39 43 48 5...  PrivateTest\n",
              "35883        3  178 174 172 173 181 188 191 194 196 199 200 20...  PrivateTest\n",
              "35884        0  17 17 16 23 28 22 19 17 25 26 20 24 31 19 27 9...  PrivateTest\n",
              "35885        3  30 28 28 29 31 30 42 68 79 81 77 67 67 71 63 6...  PrivateTest\n",
              "35886        2  19 13 14 12 13 16 21 33 50 57 71 84 97 108 122...  PrivateTest"
            ]
          },
          "metadata": {
            "tags": []
          },
          "execution_count": 6
        }
      ]
    },
    {
      "cell_type": "code",
      "metadata": {
        "id": "X0hgDAQjA5Jt",
        "colab": {
          "base_uri": "https://localhost:8080/",
          "height": 266
        },
        "outputId": "487f64a9-09c3-4f6e-a80f-f99a0455b413"
      },
      "source": [
        "#check target labels\n",
        "emotion_map = {0: 'Angry', 1: 'Digust', 2: 'Fear', 3: 'Happy', 4: 'Sad', 5: 'Surprise', 6: 'Neutral'}\n",
        "emotion_counts = df['emotion'].value_counts(sort=False).reset_index()\n",
        "emotion_counts.columns = ['emotion', 'number']\n",
        "emotion_counts['emotion'] = emotion_counts['emotion'].map(emotion_map)\n",
        "emotion_counts"
      ],
      "execution_count": 7,
      "outputs": [
        {
          "output_type": "execute_result",
          "data": {
            "text/html": [
              "<div>\n",
              "<style scoped>\n",
              "    .dataframe tbody tr th:only-of-type {\n",
              "        vertical-align: middle;\n",
              "    }\n",
              "\n",
              "    .dataframe tbody tr th {\n",
              "        vertical-align: top;\n",
              "    }\n",
              "\n",
              "    .dataframe thead th {\n",
              "        text-align: right;\n",
              "    }\n",
              "</style>\n",
              "<table border=\"1\" class=\"dataframe\">\n",
              "  <thead>\n",
              "    <tr style=\"text-align: right;\">\n",
              "      <th></th>\n",
              "      <th>emotion</th>\n",
              "      <th>number</th>\n",
              "    </tr>\n",
              "  </thead>\n",
              "  <tbody>\n",
              "    <tr>\n",
              "      <th>0</th>\n",
              "      <td>Angry</td>\n",
              "      <td>4953</td>\n",
              "    </tr>\n",
              "    <tr>\n",
              "      <th>1</th>\n",
              "      <td>Digust</td>\n",
              "      <td>547</td>\n",
              "    </tr>\n",
              "    <tr>\n",
              "      <th>2</th>\n",
              "      <td>Fear</td>\n",
              "      <td>5121</td>\n",
              "    </tr>\n",
              "    <tr>\n",
              "      <th>3</th>\n",
              "      <td>Happy</td>\n",
              "      <td>8989</td>\n",
              "    </tr>\n",
              "    <tr>\n",
              "      <th>4</th>\n",
              "      <td>Sad</td>\n",
              "      <td>6077</td>\n",
              "    </tr>\n",
              "    <tr>\n",
              "      <th>5</th>\n",
              "      <td>Surprise</td>\n",
              "      <td>4002</td>\n",
              "    </tr>\n",
              "    <tr>\n",
              "      <th>6</th>\n",
              "      <td>Neutral</td>\n",
              "      <td>6198</td>\n",
              "    </tr>\n",
              "  </tbody>\n",
              "</table>\n",
              "</div>"
            ],
            "text/plain": [
              "    emotion  number\n",
              "0     Angry    4953\n",
              "1    Digust     547\n",
              "2      Fear    5121\n",
              "3     Happy    8989\n",
              "4       Sad    6077\n",
              "5  Surprise    4002\n",
              "6   Neutral    6198"
            ]
          },
          "metadata": {
            "tags": []
          },
          "execution_count": 7
        }
      ]
    },
    {
      "cell_type": "code",
      "metadata": {
        "id": "ZRDucppcBFIO",
        "colab": {
          "base_uri": "https://localhost:8080/",
          "height": 411
        },
        "outputId": "05388718-0ac1-4b56-c9f7-58f7eef1e667"
      },
      "source": [
        "# Plotting a bar graph of the class distributions\n",
        "plt.figure(figsize=(6,4))\n",
        "sns.barplot(emotion_counts.emotion, emotion_counts.number, palette=(\"Blues_d\"))\n",
        "sns.set_context(\"poster\")\n",
        "plt.title('Class distribution', fontsize=16)\n",
        "plt.xticks(fontsize=14, rotation=90)\n",
        "plt.yticks(fontsize=14)\n",
        "plt.ylabel('Number', fontsize=12)\n",
        "plt.xlabel('Emotions', fontsize=12)\n",
        "plt.show()"
      ],
      "execution_count": 12,
      "outputs": [
        {
          "output_type": "stream",
          "text": [
            "/usr/local/lib/python3.7/dist-packages/seaborn/_decorators.py:43: FutureWarning: Pass the following variables as keyword args: x, y. From version 0.12, the only valid positional argument will be `data`, and passing other arguments without an explicit keyword will result in an error or misinterpretation.\n",
            "  FutureWarning\n"
          ],
          "name": "stderr"
        },
        {
          "output_type": "display_data",
          "data": {
            "image/png": "[encoded data removed]",
            "text/plain": [
              "<Figure size 432x288 with 1 Axes>"
            ]
          },
          "metadata": {
            "tags": [],
            "needs_background": "light"
          }
        }
      ]
    },
    {
      "cell_type": "markdown",
      "metadata": {
        "id": "HGl5-58IBqit"
      },
      "source": [
        "## Pre processing"
      ]
    },
    {
      "cell_type": "code",
      "metadata": {
        "id": "rG6dwlOnAr0Q"
      },
      "source": [
        "train_samples = df[df['Usage']==\"Training\"]\n",
        "validation_samples = df[df[\"Usage\"]==\"PublicTest\"]\n",
        "test_samples = df[df[\"Usage\"]==\"PrivateTest\"]"
      ],
      "execution_count": 9,
      "outputs": []
    },
    {
      "cell_type": "markdown",
      "metadata": {
        "id": "z5e9pPbcEGmo"
      },
      "source": [
        "Train - Val - Test split"
      ]
    },
    {
      "cell_type": "code",
      "metadata": {
        "id": "GcG25ZYID79w"
      },
      "source": [
        "y_train = train_samples.emotion.astype(np.int32).values\n",
        "y_valid = validation_samples.emotion.astype(np.int32).values\n",
        "y_test = test_samples.emotion.astype(np.int32).values\n",
        "  \n",
        "X_train =np.array([ np.fromstring(image, np.uint8, sep=\" \").reshape((48,48)) for image in train_samples.pixels])\n",
        "X_valid =np.array([ np.fromstring(image, np.uint8, sep=\" \").reshape((48,48)) for image in validation_samples.pixels])\n",
        "X_test =np.array([ np.fromstring(image, np.uint8, sep=\" \").reshape((48,48)) for image in test_samples.pixels])"
      ],
      "execution_count": 10,
      "outputs": []
    },
    {
      "cell_type": "markdown",
      "metadata": {
        "id": "gr7lk6fLIs0F"
      },
      "source": [
        "Normalisation"
      ]
    },
    {
      "cell_type": "code",
      "metadata": {
        "id": "dJCEY9cPh3E1"
      },
      "source": [
        "X_train_std = X_train/255.\n",
        "X_valid_std = X_valid/255.\n",
        "X_test_std = X_test/255."
      ],
      "execution_count": 11,
      "outputs": []
    }
  ]
}